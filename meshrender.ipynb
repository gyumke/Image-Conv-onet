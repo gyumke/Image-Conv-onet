{
 "cells": [
  {
   "cell_type": "code",
   "execution_count": 11,
   "metadata": {},
   "outputs": [],
   "source": [
    "import numpy as np\n",
    "import trimesh\n",
    "import pyrender\n",
    "from PIL import Image\n",
    "import matplotlib.pyplot as plt\n",
    "import os\n",
    "from tqdm import tqdm\n",
    "from pathlib import Path\n",
    "import shutil"
   ]
  },
  {
   "cell_type": "code",
   "execution_count": 12,
   "metadata": {},
   "outputs": [],
   "source": [
    "def RenderMesh(path):\n",
    "   try:\n",
    "      meshOrScene = trimesh.load(path)\n",
    "      scene = pyrender.Scene()\n",
    "\n",
    "      if isinstance(meshOrScene, trimesh.Scene):\n",
    "         if len(meshOrScene.geometry) == 0:\n",
    "            mesh = None  # empty scene\n",
    "         else:\n",
    "            for g in meshOrScene.geometry.values():\n",
    "               mesh = pyrender.Mesh.from_trimesh(g)\n",
    "               scene.add(mesh)\n",
    "      else:\n",
    "         mesh = pyrender.Mesh.from_trimesh(meshOrScene)\n",
    "         scene.add(mesh)\n",
    "\n",
    "      camera = pyrender.PerspectiveCamera(yfov=0.8, aspectRatio=1.0)\n",
    "      s = np.sqrt(2)/2\n",
    "      camera_pose = np.array([\n",
    "         [1, 0,   0,   0],\n",
    "         [0.0, 0, 1.0, 1.3],\n",
    "         [0.0,  -1,  0,  0.0],\n",
    "         [0.0,  0.0, 0.0, 1],\n",
    "      ])\n",
    "      cameraNode = scene.add(camera, pose=camera_pose)\n",
    "      light = pyrender.SpotLight(color=np.ones(3), intensity=3.0,\n",
    "                                 innerConeAngle=np.pi/16.0,\n",
    "                                 outerConeAngle=np.pi/6.0)\n",
    "      scene.add(light, pose=camera_pose)\n",
    "      renderer = pyrender.OffscreenRenderer(128, 128)\n",
    "   \n",
    "      colorS, depth = renderer.render(scene)\n",
    "      renderer.viewport_height = 256\n",
    "      renderer.viewport_width = 256\n",
    "      colorM, depth = renderer.render(scene)\n",
    "      renderer.viewport_height = 512\n",
    "      renderer.viewport_width = 512\n",
    "      colorL, depth = renderer.render(scene)\n",
    "\n",
    "      #plt.imshow(colorM)\n",
    "      head, tail = os.path.split(path)\n",
    "\n",
    "      pilImg = Image.fromarray(colorS)\n",
    "      pilImg.save(head  + \"\\imageSmall.png\", )\n",
    "      pilImg = Image.fromarray(colorM)\n",
    "      pilImg.save(head + \"\\imageMedium.png\", )\n",
    "      pilImg = Image.fromarray(colorL)\n",
    "      pilImg.save(head + \"\\imageLarge.png\", )\n",
    "      return True\n",
    "   except:\n",
    "      return False"
   ]
  },
  {
   "cell_type": "code",
   "execution_count": null,
   "metadata": {},
   "outputs": [],
   "source": [
    "#\"airplane,aeroplane,plane\"\n",
    "pathlist = Path(\"E:\\\\Szakdoga\\\\Data\\\\shapenetcorev2\\\\ShapeNetCore.v2\\\\02691156\\\\\").glob('**/*.obj')\n",
    "for path in tqdm(pathlist):\n",
    "    RenderMesh(str(path))"
   ]
  },
  {
   "cell_type": "code",
   "execution_count": null,
   "metadata": {},
   "outputs": [],
   "source": [
    "import warnings\n",
    "warnings.filterwarnings('ignore')\n",
    "#\"car,auto,automobile,machine,motorcar\"\n",
    "pathlist = Path(\"E:\\\\Szakdoga\\\\Data\\\\shapenetcorev2\\\\ShapeNetCore.v2\\\\02958343\\\\\").glob('**/*.obj')\n",
    "toDelete = []\n",
    "for path in tqdm(pathlist):\n",
    "    if (not RenderMesh(str(path))):\n",
    "        head, tail = os.path.split(str(path))\n",
    "        toDelete.append(head)\n",
    "\n",
    "for path in toDelete:\n",
    "    print(\"Deleteing: \", path)\n",
    "    shutil.rmtree(path)\n"
   ]
  },
  {
   "cell_type": "code",
   "execution_count": 7,
   "metadata": {},
   "outputs": [
    {
     "name": "stderr",
     "output_type": "stream",
     "text": [
      "674it [09:14,  1.24it/s]failed to load image\n",
      "Traceback (most recent call last):\n",
      "  File \"c:\\ProgramData\\Miniconda3\\envs\\conv_onet\\lib\\site-packages\\trimesh\\exchange\\obj.py\", line 337, in parse_mtl\n",
      "    file_data = resolver.get(split[1])\n",
      "  File \"c:\\ProgramData\\Miniconda3\\envs\\conv_onet\\lib\\site-packages\\trimesh\\resolvers.py\", line 85, in get\n",
      "    with open(os.path.join(self.parent, name.strip()), 'rb') as f:\n",
      "FileNotFoundError: [Errno 2] No such file or directory: 'E:\\\\Szakdoga\\\\Data\\\\shapenetcorev2\\\\ShapeNetCore.v2\\\\04530566\\\\6367d10f3cb043e1cdcba7385a96c2c8\\\\models\\\\../images/texture2.jpg'\n",
      "1939it [30:52,  1.22it/s]\n"
     ]
    }
   ],
   "source": [
    "#\"vessel,watercraft\"\n",
    "pathlist = Path(\"E:\\\\Szakdoga\\\\Data\\\\shapenetcorev2\\\\ShapeNetCore.v2\\\\04530566\\\\\").glob('**/*.obj')\n",
    "toDelete = []\n",
    "for path in tqdm(pathlist):\n",
    "    if (not RenderMesh(str(path))):\n",
    "        head, tail = os.path.split(str(path))\n",
    "        toDelete.append(head)\n",
    "\n",
    "for path in toDelete:\n",
    "    print(\"Deleteing: \", path)\n",
    "    shutil.rmtree(path)\n"
   ]
  },
  {
   "cell_type": "code",
   "execution_count": 13,
   "metadata": {},
   "outputs": [
    {
     "name": "stderr",
     "output_type": "stream",
     "text": [
      "146it [00:36,  5.92it/s]failed to load image\n",
      "Traceback (most recent call last):\n",
      "  File \"c:\\ProgramData\\Miniconda3\\envs\\conv_onet\\lib\\site-packages\\trimesh\\exchange\\obj.py\", line 337, in parse_mtl\n",
      "    file_data = resolver.get(split[1])\n",
      "  File \"c:\\ProgramData\\Miniconda3\\envs\\conv_onet\\lib\\site-packages\\trimesh\\resolvers.py\", line 85, in get\n",
      "    with open(os.path.join(self.parent, name.strip()), 'rb') as f:\n",
      "PermissionError: [Errno 13] Permission denied: 'E:\\\\Szakdoga\\\\Data\\\\shapenetcorev2\\\\ShapeNetCore.v2\\\\04256520\\\\191c92adeef9964c14038d588fd1342f\\\\models\\\\../'\n",
      "failed to load image\n",
      "Traceback (most recent call last):\n",
      "  File \"c:\\ProgramData\\Miniconda3\\envs\\conv_onet\\lib\\site-packages\\trimesh\\exchange\\obj.py\", line 337, in parse_mtl\n",
      "    file_data = resolver.get(split[1])\n",
      "  File \"c:\\ProgramData\\Miniconda3\\envs\\conv_onet\\lib\\site-packages\\trimesh\\resolvers.py\", line 85, in get\n",
      "    with open(os.path.join(self.parent, name.strip()), 'rb') as f:\n",
      "PermissionError: [Errno 13] Permission denied: 'E:\\\\Szakdoga\\\\Data\\\\shapenetcorev2\\\\ShapeNetCore.v2\\\\04256520\\\\191c92adeef9964c14038d588fd1342f\\\\models\\\\../'\n",
      "3173it [17:58,  2.47it/s]\n"
     ]
    }
   ],
   "source": [
    "#\"sofa,couch,lounge\"\n",
    "pathlist = Path(\"E:\\\\Szakdoga\\\\Data\\\\shapenetcorev2\\\\ShapeNetCore.v2\\\\04256520\\\\\").glob('**/*.obj')\n",
    "toDelete = []\n",
    "for path in tqdm(pathlist):\n",
    "    if (not RenderMesh(str(path))):\n",
    "        head, tail = os.path.split(str(path))\n",
    "        toDelete.append(head)\n",
    "\n",
    "for path in toDelete:\n",
    "    print(\"Deleteing: \", path)\n",
    "    shutil.rmtree(path)"
   ]
  },
  {
   "cell_type": "code",
   "execution_count": 4,
   "metadata": {},
   "outputs": [
    {
     "name": "stderr",
     "output_type": "stream",
     "text": [
      "248it [00:01, 207.12it/s]"
     ]
    },
    {
     "name": "stdout",
     "output_type": "stream",
     "text": [
      "Path does not exist:  E:\\Szakdoga\\Data\\shapenetcorev2\\ShapeNetCore.v2\\02691156\\1e8adc1e176bc68571d03b466c72ce41\\models\\imageSmall.png\n"
     ]
    },
    {
     "name": "stderr",
     "output_type": "stream",
     "text": [
      "4045it [00:19, 211.49it/s]\n"
     ]
    }
   ],
   "source": [
    "pathlist = Path(\"E:\\\\Szakdoga\\\\Data\\\\preprocessed\\\\ShapeNet\\\\02691156\").glob('**/*.binvox')\n",
    "toDelete = []\n",
    "for path in tqdm(pathlist):\n",
    "    filePath, fileName = os.path.split(str(path))\n",
    "    head, objectId = os.path.split(filePath)\n",
    "\n",
    "    #copy to preprocessed\n",
    "    src = \"E:\\\\Szakdoga\\\\Data\\\\shapenetcorev2\\\\ShapeNetCore.v2\\\\02691156\\\\\" + objectId + \"\\\\models\\\\imageSmall.png\"\n",
    "    target = filePath + \"\\\\imageSmall.png\"\n",
    "    if(os.path.exists(src)):\n",
    "        shutil.copyfile(src, target)\n",
    "    else:\n",
    "        print(\"Path does not exist: \", src)\n",
    "        toDelete.append(src)"
   ]
  },
  {
   "cell_type": "code",
   "execution_count": 5,
   "metadata": {},
   "outputs": [
    {
     "name": "stderr",
     "output_type": "stream",
     "text": [
      "3500it [00:07, 491.26it/s]\n"
     ]
    }
   ],
   "source": [
    "pathlist = Path(\"E:\\\\Szakdoga\\\\Data\\\\preprocessed\\\\ShapeNet\\\\02958343\").glob('**/*.binvox')\n",
    "toDelete = []\n",
    "for path in tqdm(pathlist):\n",
    "    filePath, fileName = os.path.split(str(path))\n",
    "    head, objectId = os.path.split(filePath)\n",
    "\n",
    "    #copy to preprocessed\n",
    "    src = \"E:\\\\Szakdoga\\\\Data\\\\shapenetcorev2\\\\ShapeNetCore.v2\\\\02958343\\\\\" + objectId + \"\\\\models\\\\imageSmall.png\"\n",
    "    target = filePath + \"\\\\imageSmall.png\"\n",
    "    if(os.path.exists(src)):\n",
    "        shutil.copyfile(src, target)\n",
    "    else:\n",
    "        print(\"Path does not exist: \", src)\n",
    "        toDelete.append(filePath)"
   ]
  },
  {
   "cell_type": "code",
   "execution_count": 6,
   "metadata": {},
   "outputs": [
    {
     "data": {
      "text/plain": [
       "0"
      ]
     },
     "execution_count": 6,
     "metadata": {},
     "output_type": "execute_result"
    }
   ],
   "source": [
    "len(toDelete)"
   ]
  },
  {
   "cell_type": "code",
   "execution_count": 7,
   "metadata": {},
   "outputs": [],
   "source": [
    "for path in toDelete:\n",
    "    print(\"Deleteing: \", path)\n",
    "    shutil.rmtree(path)"
   ]
  },
  {
   "cell_type": "code",
   "execution_count": 8,
   "metadata": {},
   "outputs": [
    {
     "name": "stderr",
     "output_type": "stream",
     "text": [
      "1939it [00:09, 197.27it/s]\n"
     ]
    }
   ],
   "source": [
    "pathlist = Path(\"E:\\\\Szakdoga\\\\Data\\\\preprocessed\\\\ShapeNet\\\\04530566\").glob('**/*.binvox')\n",
    "toDelete = []\n",
    "for path in tqdm(pathlist):\n",
    "    filePath, fileName = os.path.split(str(path))\n",
    "    head, objectId = os.path.split(filePath)\n",
    "\n",
    "    #copy to preprocessed\n",
    "    src = \"E:\\\\Szakdoga\\\\Data\\\\shapenetcorev2\\\\ShapeNetCore.v2\\\\04530566\\\\\" + objectId + \"\\\\models\\\\imageSmall.png\"\n",
    "    target = filePath + \"\\\\imageSmall.png\"\n",
    "    if(os.path.exists(src)):\n",
    "        shutil.copyfile(src, target)\n",
    "    else:\n",
    "        print(\"Path does not exist: \", src)\n",
    "        toDelete.append(filePath)"
   ]
  },
  {
   "cell_type": "code",
   "execution_count": 9,
   "metadata": {},
   "outputs": [
    {
     "data": {
      "text/plain": [
       "0"
      ]
     },
     "execution_count": 9,
     "metadata": {},
     "output_type": "execute_result"
    }
   ],
   "source": [
    "len(toDelete)"
   ]
  },
  {
   "cell_type": "code",
   "execution_count": 14,
   "metadata": {},
   "outputs": [
    {
     "name": "stderr",
     "output_type": "stream",
     "text": [
      "3173it [00:14, 219.43it/s]\n"
     ]
    }
   ],
   "source": [
    "pathlist = Path(\"E:\\\\Szakdoga\\\\Data\\\\preprocessed\\\\ShapeNet\\\\04256520\").glob('**/*.binvox')\n",
    "toDelete = []\n",
    "for path in tqdm(pathlist):\n",
    "    filePath, fileName = os.path.split(str(path))\n",
    "    head, objectId = os.path.split(filePath)\n",
    "\n",
    "    #copy to preprocessed\n",
    "    src = \"E:\\\\Szakdoga\\\\Data\\\\shapenetcorev2\\\\ShapeNetCore.v2\\\\04256520\\\\\" + objectId + \"\\\\models\\\\imageSmall.png\"\n",
    "    target = filePath + \"\\\\imageSmall.png\"\n",
    "    if(os.path.exists(src)):\n",
    "        shutil.copyfile(src, target)\n",
    "    else:\n",
    "        print(\"Path does not exist: \", src)\n",
    "        toDelete.append(filePath)"
   ]
  }
 ],
 "metadata": {
  "interpreter": {
   "hash": "8c6d7f81e7030a7ec2b5a09b6fa73db577efa456fcc20210e05e68705b4fca1e"
  },
  "kernelspec": {
   "display_name": "Python 3.6.7 ('conv_onet')",
   "language": "python",
   "name": "python3"
  },
  "language_info": {
   "codemirror_mode": {
    "name": "ipython",
    "version": 3
   },
   "file_extension": ".py",
   "mimetype": "text/x-python",
   "name": "python",
   "nbconvert_exporter": "python",
   "pygments_lexer": "ipython3",
   "version": "3.6.7"
  },
  "orig_nbformat": 4
 },
 "nbformat": 4,
 "nbformat_minor": 2
}
